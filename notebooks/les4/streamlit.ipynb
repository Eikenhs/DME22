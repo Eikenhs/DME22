{
 "cells": [
  {
   "cell_type": "markdown",
   "metadata": {},
   "source": [
    "# Introduction\n",
    "\n",
    "Enabling a business user to interact with the data and the outcomes of a project is often very important. With `streamlit` you can easily create web apps that allow your client to interact with the data without having to deal with the details and complexities of the analysis.\n",
    "\n",
    "### Communication is key\n",
    "\n",
    "Communication is a key part of data mining & exploration. In the business understanding phase, communication is essential to get a profound understanding of the client's problem and to define the objective and data mining goals of the project. In later phases, it is essential to translate the outcome of the project to the client and the organization.\n",
    "\n",
    "### Communication is more than mere visualization\n",
    "Good communication of the outcomes of an analysis often requires well thought out and balanced data visualization. However, how effective and attractive they may be, showing only charts and visuals in a slide deck is not always sufficient. \n",
    "\n",
    "Often, clients needs to be able to interact with the data (e.g. slice, filter, zoom etc.) in a dashboard. \n",
    "\n",
    "With packages like `streamlit` it is relatively easy to build a web app or dashboard that allow a user to interact with the data. \n",
    "\n",
    "In many projects, this ability can make or break the adoption of the project outcomes."
   ]
  },
  {
   "cell_type": "markdown",
   "metadata": {},
   "source": [
    "# What you will learn\n",
    "\n",
    "- The basic principles of a web app\n",
    "- How to configure your development environment to work with `streamlit`\n",
    "- How to create a simple `streamlit` app\n",
    "- The most important `streamlit` methods"
   ]
  },
  {
   "cell_type": "markdown",
   "metadata": {},
   "source": [
    "# Why `streamlit`?\n",
    "\n",
    "There are many options for web app frameworks in Python. Rather simple (e.g. [Dash](https://plotly.com/dash/) for dashboards or [Flet](https://flet.dev/) for more general purpose web apps) and more sophisticated/flexible frameworks (e.g. [Flask](https://flask.palletsprojects.com/en/2.2.x/) or [Django](https://www.djangoproject.com/)).\n",
    "\n",
    "We have chosen [`streamlit`](https://streamlit.io/) because of its popularity and ease of use. It allows you to create a good looking web app with a few lines of code."
   ]
  },
  {
   "cell_type": "markdown",
   "metadata": {},
   "source": [
    "# Installation\n",
    "\n",
    "You can install `streamlit` with `poetry`:\n",
    "\n",
    "```\n",
    "$ poetry add streamlit\n",
    "```\n",
    "\n",
    "### Important note!\n",
    "`streamlit` is not compatible with Python 3.9.7. Even, if you don't have that exact version installed, the installation may fail because your `pyproject.toml` may be too permissive for the Python version. \n",
    "\n",
    "To prevent this, modify your `pyproject.toml` as follows:\n",
    "\n",
    "```\n",
    "[tool.poetry.dependencies]\n",
    "python = \">=3.9,<3.9.7 || >3.9.7,<3.10\"\n",
    "```\n",
    "\n",
    "This line allows all Python versions between 3.9 and 3.10 except 3.9.7. Alternatively, you could fix the Python version that `poetry` uses to a specific version (other than 3.9.7)."
   ]
  },
  {
   "cell_type": "markdown",
   "metadata": {},
   "source": [
    "# How a web app works\n",
    "\n",
    "A web app works in a client server architecture, which is a bit different from a normal command line app. \n",
    "\n",
    "The basic concept is as follows:\n",
    "\n",
    "- It starts with running a web server. This web server is an app that continuously listens to a port on your computer and waits for a request from a web browser.\n",
    "- If the web server receives a request, it processes the request and returns an HTML page in response.\n",
    "- The web browser receives the response, renders the HTML and shows the result in your web browser window.\n",
    "\n",
    "### A minor complication when working remote\n",
    "\n",
    "When you work remote (as we do on virtual machines), there is a minor complication. The web server that runs on your virtual machine cannot be reached directly from the outside world. We have to manually set up a connection from the ports of our local pc to the ports of the virtual machine. \n",
    "\n",
    "Fortunately, Visual Studio Code provides functionality for this so-called port mapping (i.e. connecting a remote to a local port) and it only requires a simple additional step. \n",
    "\n",
    "In the Ports panel, we have to configure a port forwarding. Once this has been done, we can submit requests in our local browser to the webserver on the (remote) virtual machine and we can receive responses.\n",
    "\n",
    "Follow these steps to configure port forwarding in Visual Studio Code:\n",
    "\n",
    "1. Select the `PORTS` tab in the lower panel of the screen\n",
    "   \n",
    "   ![port_forwarding_01](img/port_forwarding_01.png)\n",
    "   \n",
    "2. Click on `Forward a Port`\n",
    "   \n",
    "3. Enter the port number and press `<Enter>`. The port number is typically `8501` for `streamlit`, but it may be different in your case. You can find the port number the URL (after the `:`) that is shown when you run `streamlit`.\n",
    "\n"
   ]
  },
  {
   "cell_type": "markdown",
   "metadata": {},
   "source": [
    "# Starting with `streamlit`\n",
    "\n",
    "## How it works\n",
    "\n",
    "If you want to turn your Python code into a `streamlit` app, all you have to do is add \n",
    "\n",
    "```{python}\n",
    "import streamlit as st\n",
    "``` \n",
    "to your code and call the proper `streamlit` \"output\" function. \n",
    "\n",
    "Note that we abbreviate the `streamlit` with `st`, so that we can call the `streamlit` functions with the conveniently short prefix `st`.\n",
    "\n",
    "The most basic output function is `st.write`. We will use `st.write` for our first 'hello world' `streamlit` app.\n",
    "\n",
    "## `streamlit` and Jupyter Notebooks don't go together\n",
    "\n",
    "As you can imagine, Jupyter Notebooks and `streamlit` don't go together very well. You have to write code in modules (separate `.py` files) and run them with `streamlit`.\n",
    "\n",
    "The code shown below in Jupyter cells is not meant to be run directly from the notebook. You should add it to your own module(s) and run the module(s) using `streamlit`.\n",
    "\n"
   ]
  },
  {
   "cell_type": "markdown",
   "metadata": {},
   "source": [
    "## Hello world in `streamlit`\n",
    "\n",
    "We will start with a simple but not very usefull app that shows a static text. "
   ]
  },
  {
   "cell_type": "code",
   "execution_count": null,
   "metadata": {},
   "outputs": [],
   "source": [
    "import streamlit as st\n",
    "\n",
    "st.write(\n",
    "    r\"\"\"\n",
    "    # Hello\n",
    "    \n",
    "    My name is **[put your name her]**.\n",
    "    \n",
    "    This is my first `streamlit` app for the Data Mining & Exploration course of the HU University of Applied Sciences Utrecht.\n",
    "    \n",
    "    As you can see, the `st.write` function supports (GitHub flavored) Markdown.\n",
    "    \n",
    "    # Header 1\n",
    "    \n",
    "    ## Header 2\n",
    "    \n",
    "    ### Header 3\n",
    "    \n",
    "    My personal goals for this course are:\n",
    "    1. Learn robust data analysis in Python\n",
    "    2. Conduct my own analysis in a project from my own practice\n",
    "    3. Have some fun!\n",
    "    \n",
    "    $ x_{1,2} = \\frac{-b \\pm \\sqrt{b^2 - 4ac}}{2a} $\n",
    "        \n",
    "    I'm a list:\n",
    "    - Item 1\n",
    "    - Item 2 with some _emphasis_\n",
    "    - Goto [Hello](#hello)\n",
    "    ---\n",
    "    \"\"\"\n",
    ")"
   ]
  },
  {
   "cell_type": "markdown",
   "metadata": {},
   "source": [
    "Save this to a separate module `src/hello.py`. \n",
    "\n",
    "You can run the code from the command line in your shell:\n",
    "\n",
    "```\n",
    "$ streamlit run src/hello.py\n",
    "```"
   ]
  },
  {
   "cell_type": "markdown",
   "metadata": {},
   "source": [
    "You will see that the webserver has started and that it shows the address you can visit.\n",
    "\n",
    "If you open the link in your browser (after having correctly configured port forwardig as shown above), you can see the results of your module.\n",
    "\n",
    "As you can see, the `st.write` function is simple in use, but because it supports Markdown you can already create a good looking page with formatting, headers, lists, hyperlinks and mathematical equations.\n",
    "\n",
    "Visit [this page](https://github.github.com/gfm/#what-is-github-flavored-markdown-) if you want to learn more about Markdown."
   ]
  },
  {
   "cell_type": "markdown",
   "metadata": {},
   "source": [
    "### Modifying your code\n",
    "\n",
    "If you want to change your code, you don't have to stop the web server. All you have to do is save your module. The webserver will detect the changes and will ask you (in the right upper corner of your web page) whether you want to rerun the code. \n",
    "\n",
    "If you click `Always rerun` it will automatically refresh your page each time you save your file.\n",
    "\n",
    "Note that if not otherwise specified, `streamlit` will always run the entire module when you save it. This may involve long-during analyses. In these cases, it is wise to have the page not refreshed automatically."
   ]
  },
  {
   "cell_type": "markdown",
   "metadata": {},
   "source": [
    "## Adding plots\n",
    "\n",
    "We will now move on to a more realistic example with a plot. Create a new module `dashboard.py` for the code below."
   ]
  },
  {
   "cell_type": "code",
   "execution_count": null,
   "metadata": {},
   "outputs": [],
   "source": [
    "from datetime import datetime\n",
    "\n",
    "import matplotlib as mpl\n",
    "import palmerpenguins\n",
    "import seaborn as sns\n",
    "import streamlit as st"
   ]
  },
  {
   "cell_type": "markdown",
   "metadata": {},
   "source": [
    "Load the data into a Pandas dataframe."
   ]
  },
  {
   "cell_type": "code",
   "execution_count": null,
   "metadata": {},
   "outputs": [],
   "source": [
    "penguins = palmerpenguins.load_penguins()"
   ]
  },
  {
   "cell_type": "markdown",
   "metadata": {},
   "source": [
    "It is important to inform the user of a dashboard about how current the information on the dashboard is. Therefor, use `st.write` and the appropriate `datetime` function to add the folllowing text with the current date in it:\n",
    "\n",
    "\n",
    "> Last updated: \\<dd MMM yyyy\\>\n",
    "\n",
    "We want to enable the user to investigate the correlation between the bill depth and bill length of each penguin species. So, let's add a plot that does exactly that.\n",
    "\n",
    "Add the following to your code:"
   ]
  },
  {
   "cell_type": "code",
   "execution_count": null,
   "metadata": {},
   "outputs": [],
   "source": [
    "# Create a (scatter) plot object.\n",
    "f, ax = mpl.subplots(1,1)\n",
    "h = sns.relplot(\n",
    "    ax=ax,\n",
    "    data=penguins, \n",
    "    x='bill_length_mm', \n",
    "    y='bill_depth_mm', \n",
    "    hue='species'\n",
    ")\n",
    "h.set_axis_labels('Bill length (mm)', 'Bill depth (mm)')\n",
    "h.set(title='Bill length and depth correlation across species')\n",
    "\n",
    "# Add the object to the page.\n",
    "st.pyplot(h)"
   ]
  },
  {
   "cell_type": "markdown",
   "metadata": {},
   "source": [
    "Note that on a dashboard style and details matter. We add a title, use legible axis labels and add units to quantities.\n",
    "\n",
    "### Adding interactivity\n",
    "\n",
    "We want to add interactivity to our dashboar. As a first step, we will add check boxes that allow us to select/unselect a species.\n",
    "\n",
    "In order to be able to do so, we have to prepare the data. We need the following:\n",
    "- A list `species` with the names of the species. \n",
    "- A list of booleans (with the same length as `species`) `is_checked` that indicate whether a species is selected or not.\n",
    "- A filtered dataframe `penguins_selection` that includes only the selected species. \n",
    "\n",
    "Complete the following code with the appropriate `pandas`:"
   ]
  },
  {
   "cell_type": "code",
   "execution_count": null,
   "metadata": {},
   "outputs": [],
   "source": [
    "species = penguins['species']...\n",
    "is_selected = []        # Will be initialized below.\n",
    "\n",
    "# Put your checkbox code (see below) here.\n",
    "\n",
    "penguins_selection = penguins[ ... ]    \n",
    "        # Hint: combine .isin() with species and is_selected.\n",
    "        \n",
    "# Add your plot to the page here."
   ]
  },
  {
   "cell_type": "markdown",
   "metadata": {},
   "source": [
    "You create a checkboxes in `streamlit` with `st.checkbox`. \n",
    "\n",
    "Since the number of species is limited, we will position the checkboxes horizontally next tot each other. Each checkbox will get its own column. Columns are created with the `st.columns` function. It returns a context manager you can use to position objects:\n",
    "\n",
    "```{python}\n",
    "    with column_object:\n",
    "        ...\n",
    "        # create objects that are placed in this column\n",
    "        ...\n",
    "```\n",
    "\n",
    "We create a checkbox and a column for each species and combine them with `zip()`:"
   ]
  },
  {
   "cell_type": "code",
   "execution_count": null,
   "metadata": {},
   "outputs": [],
   "source": [
    "columns = st.columns(spec=len(species), gap='small')\n",
    "for col, spec in zip(columns, species):\n",
    "    with col:\n",
    "        is_selected.append(st.checkbox(spec, value=True))"
   ]
  },
  {
   "cell_type": "markdown",
   "metadata": {},
   "source": [
    "Make sure to place the dataframe filtering and the checkbox code above your `st.pyplot(...)`.\n",
    "\n",
    "If all went well, you are now able to select and unselect the species shown in the plot.\n",
    "\n",
    "We might also want to show the exact data, stored in our data frame. `streamlit` provides an easy way to add an interactive table to the page with the `st.dataframe()` function:"
   ]
  },
  {
   "cell_type": "code",
   "execution_count": null,
   "metadata": {},
   "outputs": [],
   "source": [
    "st.dataframe(penguins_selection)"
   ]
  },
  {
   "cell_type": "markdown",
   "metadata": {},
   "source": [
    "We might want to hide details in the table and we want to have neat and legible column titles. Use `pandas` to rename the columns properly and modify your code to have it only show the columns `species`, `bill_length_mm` and `bill_depth_mm`.\n",
    "\n",
    "### Rearranging the plot and the table\n",
    "\n",
    "Not every business user is interested in the table and not every user is interested in the plot. To rearrange them, we will put the plot and the data table on their own tab. However, we want the check boxes to appear above both, because they apply to both."
   ]
  },
  {
   "cell_type": "code",
   "execution_count": 3,
   "metadata": {},
   "outputs": [],
   "source": [
    "tabs = st.tabs(['Plot', 'Table'])"
   ]
  },
  {
   "cell_type": "markdown",
   "metadata": {},
   "source": [
    "This will create a list of tab context managers that we can use to position our objects in.\n",
    "\n",
    "```\n",
    "    with tab[0]:\n",
    "        ...\n",
    "        # Place objects on tab0.\n",
    "        ...\n",
    "\n",
    "    with tab[1]:\n",
    "        ...\n",
    "        # Place objects on tab1.\n",
    "```\n",
    "\n",
    "Modify your code so that it:\n",
    "\n",
    "- Always shows the checkboxes\n",
    "- Shows the scatter plot on the `Plot` tab\n",
    "- Shows the data frame on the `Table` tab\n",
    "- Shows a table caption above the table on the `Table` tab (use the `st.caption` function)\n",
    "\n"
   ]
  }
 ],
 "metadata": {
  "kernelspec": {
   "display_name": "Python 3.9.13 ('dmestream-GGiuXOEf-py3.9')",
   "language": "python",
   "name": "python3"
  },
  "language_info": {
   "codemirror_mode": {
    "name": "ipython",
    "version": 3
   },
   "file_extension": ".py",
   "mimetype": "text/x-python",
   "name": "python",
   "nbconvert_exporter": "python",
   "pygments_lexer": "ipython3",
   "version": "3.9.13"
  },
  "orig_nbformat": 4,
  "vscode": {
   "interpreter": {
    "hash": "7763e80ff407ed7d196876e1eee56cc2727ad0369cc0bb79e9a80ebe1f6ad678"
   }
  }
 },
 "nbformat": 4,
 "nbformat_minor": 2
}
